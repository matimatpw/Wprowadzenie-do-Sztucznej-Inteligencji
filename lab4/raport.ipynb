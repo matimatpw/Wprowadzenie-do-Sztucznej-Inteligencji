{
 "cells": [
  {
   "cell_type": "markdown",
   "metadata": {},
   "source": [
    "\n",
    "# WSI laboratorium 4 \n",
    "## Maszyny wektorów nośnych (SVM)\n",
    "\n",
    "Wykorzystywane metody jądrowe:\n",
    "- linowa\n",
    "- rbf\n",
    "\n",
    "Dostosowanie zbioru danych do problemu klasyfikacji binarnej:\n",
    "* Wino jest uznawane za \"dobre\", gdy jego jakość \n",
    "jest conajmniej równa 6, inaczej wino uznajemy za \"złe\"\n",
    "\n",
    "Badanie wpływu hiperparametrów na algorytm SVM\n",
    "### Hiperparemetry:\n",
    "- C (Parametr reguralyzacji)\n",
    "- Kernel Function (Metoda jądrowa -> Liniowa lub RBF)\n",
    "- Sigma (Przy metodzie jądrowej RBF)\n",
    "- Learning Rate (Rozmiar kroku używany w gradiencie)\n",
    "- Iterations (Iteracje przez zbior danych podczas trenowania)\n",
    "\n",
    "Wyniki Przedstawione będą w tabelkach."
   ]
  },
  {
   "cell_type": "code",
   "execution_count": 1,
   "metadata": {},
   "outputs": [],
   "source": [
    "from svm import SVM, optim_params, PrepareData\n",
    "import numpy as np\n",
    "from sklearn.model_selection import train_test_split\n",
    "from sklearn.metrics import accuracy_score, confusion_matrix\n",
    "from ucimlrepo import fetch_ucirepo \n",
    "import pandas as pd"
   ]
  },
  {
   "cell_type": "code",
   "execution_count": 2,
   "metadata": {},
   "outputs": [
    {
     "name": "stdout",
     "output_type": "stream",
     "text": [
      "(5197, 1) (1300, 1)\n",
      "(5197,) (1300,)\n"
     ]
    }
   ],
   "source": [
    "data = PrepareData() \n",
    "X_train, X_test, y_train, y_test = train_test_split(np.array(data.X),np.array(data.y), test_size=0.2, random_state=18)\n",
    "y_train, y_test = data.wrap_targets(y_train,y_test)\n"
   ]
  }
 ],
 "metadata": {
  "kernelspec": {
   "display_name": "Python 3",
   "language": "python",
   "name": "python3"
  },
  "language_info": {
   "codemirror_mode": {
    "name": "ipython",
    "version": 3
   },
   "file_extension": ".py",
   "mimetype": "text/x-python",
   "name": "python",
   "nbconvert_exporter": "python",
   "pygments_lexer": "ipython3",
   "version": "3.10.11"
  }
 },
 "nbformat": 4,
 "nbformat_minor": 2
}
