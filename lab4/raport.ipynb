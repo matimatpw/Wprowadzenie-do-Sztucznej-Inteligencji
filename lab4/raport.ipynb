{
 "cells": [
  {
   "cell_type": "markdown",
   "metadata": {},
   "source": [
    "\n",
    "# WSI laboratorium 4 \n",
    "## Maszyny wektorów nośnych (SVM)\n",
    "\n",
    "Wykorzystywane metody jądrowe:\n",
    "- linowa\n",
    "- rbf\n",
    "\n",
    "Dostosowanie zbioru danych do problemu klasyfikacji binarnej:\n",
    "* Wino jest uznawane za \"dobre\", gdy jego jakość \n",
    "jest conajmniej równa 6, inaczej wino uznajemy za \"złe\"\n",
    "\n",
    "Badanie wpływu hiperparametrów na algorytm SVM\n",
    "### Hiperparemetry:\n",
    "- C (Parametr reguralyzacji)\n",
    "- Kernel Function (Metoda jądrowa -> Liniowa lub RBF)\n",
    "- Sigma (Przy metodzie jądrowej RBF)\n",
    "- Learning Rate (Rozmiar kroku używany w gradiencie)\n",
    "- Iterations (Iteracje przez zbior danych podczas trenowania)\n",
    "\n",
    "Wyniki Przedstawione będą w tabelkach."
   ]
  },
  {
   "cell_type": "code",
   "execution_count": 2,
   "metadata": {},
   "outputs": [],
   "source": [
    "from svm import SVM, optim_params, PrepareData\n",
    "import numpy as np\n",
    "from sklearn.model_selection import train_test_split\n",
    "from sklearn.metrics import accuracy_score, confusion_matrix\n",
    "from ucimlrepo import fetch_ucirepo \n",
    "import pandas as pd"
   ]
  },
  {
   "cell_type": "code",
   "execution_count": 10,
   "metadata": {},
   "outputs": [],
   "source": [
    "data = PrepareData() \n",
    "X_train, X_test, y_train, y_test = train_test_split(np.array(data.X),np.array(data.y), test_size=0.2, random_state=18)\n",
    "y_train, y_test = data.wrap_targets(y_train,y_test)\n",
    "\n",
    "#parameters\n",
    "c_params =      [0.1  , 0.5 , 2  ]\n",
    "sigma_params =  [0.1  , 0.5 , 2  ]\n",
    "lr_params =     [1e-10, 1e-2, 1  ]\n",
    "iters_params =  [100  , 300 , 500]"
   ]
  },
  {
   "cell_type": "code",
   "execution_count": null,
   "metadata": {},
   "outputs": [],
   "source": []
  },
  {
   "cell_type": "code",
   "execution_count": 11,
   "metadata": {},
   "outputs": [
    {
     "data": {
      "text/html": [
       "<div>\n",
       "<style scoped>\n",
       "    .dataframe tbody tr th:only-of-type {\n",
       "        vertical-align: middle;\n",
       "    }\n",
       "\n",
       "    .dataframe tbody tr th {\n",
       "        vertical-align: top;\n",
       "    }\n",
       "\n",
       "    .dataframe thead th {\n",
       "        text-align: right;\n",
       "    }\n",
       "</style>\n",
       "<table border=\"1\" class=\"dataframe\">\n",
       "  <thead>\n",
       "    <tr style=\"text-align: right;\">\n",
       "      <th></th>\n",
       "      <th>C</th>\n",
       "      <th>Sigma</th>\n",
       "      <th>learning_rate</th>\n",
       "      <th>iterations</th>\n",
       "      <th>accuracy</th>\n",
       "    </tr>\n",
       "  </thead>\n",
       "  <tbody>\n",
       "    <tr>\n",
       "      <th>0</th>\n",
       "      <td>0.1</td>\n",
       "      <td>0.1</td>\n",
       "      <td>1.000000e-10</td>\n",
       "      <td>100</td>\n",
       "      <td>0.643077</td>\n",
       "    </tr>\n",
       "    <tr>\n",
       "      <th>1</th>\n",
       "      <td>0.5</td>\n",
       "      <td>0.5</td>\n",
       "      <td>1.000000e-02</td>\n",
       "      <td>300</td>\n",
       "      <td>0.738462</td>\n",
       "    </tr>\n",
       "    <tr>\n",
       "      <th>2</th>\n",
       "      <td>2.0</td>\n",
       "      <td>2.0</td>\n",
       "      <td>1.000000e+00</td>\n",
       "      <td>500</td>\n",
       "      <td>0.584615</td>\n",
       "    </tr>\n",
       "  </tbody>\n",
       "</table>\n",
       "</div>"
      ],
      "text/plain": [
       "     C  Sigma  learning_rate  iterations  accuracy\n",
       "0  0.1    0.1   1.000000e-10         100  0.643077\n",
       "1  0.5    0.5   1.000000e-02         300  0.738462\n",
       "2  2.0    2.0   1.000000e+00         500  0.584615"
      ]
     },
     "execution_count": 11,
     "metadata": {},
     "output_type": "execute_result"
    }
   ],
   "source": [
    "\n",
    "accuracy = []\n",
    "#(C=10, kernel='rbf',lr=1e-10, iters=100, sigma=0.5)\n",
    "for idx in range(len(c_params)):\n",
    "    op_rbf = optim_params(C=c_params[idx], kernel='rbf',lr=lr_params[idx], iters=iters_params[idx], sigma=sigma_params[idx])\n",
    "    svm = SVM(op_rbf)\n",
    "    svm.fit(X_train, y_train)\n",
    "\n",
    "    predicts = svm.predict(X_test)\n",
    "\n",
    "    accuracy.append(accuracy_score(y_test, predicts))\n",
    "\n",
    "result = pd.DataFrame(\n",
    "    {\n",
    "        'C': c_params,\n",
    "        'Sigma': sigma_params,\n",
    "        'learning_rate': lr_params,\n",
    "        'iterations': iters_params,\n",
    "        'accuracy': accuracy })\n",
    "\n",
    "result\n"
   ]
  }
 ],
 "metadata": {
  "kernelspec": {
   "display_name": "Python 3",
   "language": "python",
   "name": "python3"
  },
  "language_info": {
   "codemirror_mode": {
    "name": "ipython",
    "version": 3
   },
   "file_extension": ".py",
   "mimetype": "text/x-python",
   "name": "python",
   "nbconvert_exporter": "python",
   "pygments_lexer": "ipython3",
   "version": "3.10.11"
  }
 },
 "nbformat": 4,
 "nbformat_minor": 2
}
