{
 "cells": [
  {
   "cell_type": "markdown",
   "metadata": {},
   "source": [
    "\n",
    "# WSI laboratorium 4 \n",
    "## Maszyny wektorów nośnych (SVM)\n",
    "\n",
    "Wykorzystywane metody jądrowe:\n",
    "- linowa\n",
    "- rbf\n",
    "\n",
    "Dostosowanie zbioru danych do problemu klasyfikacji binarnej:\n",
    "* Wino jest uznawane za \"dobre\", gdy jego jakość \n",
    "jest conajmniej równa 6, inaczej wino uznajemy za \"złe\"\n",
    "\n",
    "Badanie wpływu hiperparametrów na algorytm SVM\n",
    "### Hiperparemetry:\n",
    "- C (Parametr reguralyzacji)\n",
    "- Kernel Function (Metoda jądrowa -> Liniowa lub RBF)\n",
    "- Sigma (Przy metodzie jądrowej RBF)\n",
    "- Learning Rate (Rozmiar kroku używany w gradiencie)\n",
    "- Iterations (Iteracje przez zbior danych podczas trenowania)\n",
    "\n",
    "Wyniki Przedstawione będą w tabelkach."
   ]
  },
  {
   "cell_type": "code",
   "execution_count": 2,
   "metadata": {},
   "outputs": [],
   "source": [
    "from svm import SVM, optim_params, PrepareData\n",
    "import numpy as np\n",
    "from sklearn.model_selection import train_test_split\n",
    "from sklearn.metrics import accuracy_score, confusion_matrix\n",
    "from ucimlrepo import fetch_ucirepo \n",
    "import pandas as pd"
   ]
  },
  {
   "cell_type": "code",
   "execution_count": null,
   "metadata": {},
   "outputs": [],
   "source": [
    "data = PrepareData() \n",
    "X_train, X_test, y_train, y_test = train_test_split(np.array(data.X),np.array(data.y), test_size=0.2, random_state=18)\n",
    "y_train, y_test = data.wrap_targets(y_train,y_test)\n",
    "\n",
    "#parameters\n",
    "c_params =      [0.1  , 0.5 , 2  ]\n",
    "sigma_params =  [0.1  , 0.5 , 2  ]\n",
    "lr_params =     [1e-10, 1e-2, 1  ]\n",
    "iters_params =  [100  , 300 , 500]"
   ]
  },
  {
   "cell_type": "code",
   "execution_count": null,
   "metadata": {},
   "outputs": [],
   "source": []
  },
  {
   "cell_type": "code",
   "execution_count": 9,
   "metadata": {},
   "outputs": [
    {
     "ename": "KeyboardInterrupt",
     "evalue": "",
     "output_type": "error",
     "traceback": [
      "\u001b[1;31m---------------------------------------------------------------------------\u001b[0m",
      "\u001b[1;31mKeyboardInterrupt\u001b[0m                         Traceback (most recent call last)",
      "Cell \u001b[1;32mIn[9], line 10\u001b[0m\n\u001b[0;32m      8\u001b[0m op_rbf \u001b[38;5;241m=\u001b[39m optim_params(C\u001b[38;5;241m=\u001b[39mc_params[idx], kernel\u001b[38;5;241m=\u001b[39m\u001b[38;5;124m'\u001b[39m\u001b[38;5;124mrbf\u001b[39m\u001b[38;5;124m'\u001b[39m,lr\u001b[38;5;241m=\u001b[39mlr_params[idx], iters\u001b[38;5;241m=\u001b[39miters_params[idx], sigma\u001b[38;5;241m=\u001b[39msigma_params[idx])\n\u001b[0;32m      9\u001b[0m svm \u001b[38;5;241m=\u001b[39m SVM(op_rbf)\n\u001b[1;32m---> 10\u001b[0m \u001b[43msvm\u001b[49m\u001b[38;5;241;43m.\u001b[39;49m\u001b[43mfit\u001b[49m\u001b[43m(\u001b[49m\u001b[43mX_train\u001b[49m\u001b[43m,\u001b[49m\u001b[43m \u001b[49m\u001b[43my_train\u001b[49m\u001b[43m)\u001b[49m\n\u001b[0;32m     12\u001b[0m predicts \u001b[38;5;241m=\u001b[39m svm\u001b[38;5;241m.\u001b[39mpredict(X_test)\n\u001b[0;32m     14\u001b[0m accuracy\u001b[38;5;241m.\u001b[39mappend(accuracy_score(y_test, predicts))\n",
      "File \u001b[1;32mc:\\Users\\mateu\\python\\WSi\\wsi-testowe-repo\\lab4\\svm.py:63\u001b[0m, in \u001b[0;36mSVM.fit\u001b[1;34m(self, X_features, y_targets)\u001b[0m\n\u001b[0;32m     59\u001b[0m     gradient \u001b[38;5;241m=\u001b[39m np\u001b[38;5;241m.\u001b[39mones(X_features\u001b[38;5;241m.\u001b[39mshape[\u001b[38;5;241m0\u001b[39m]) \u001b[38;5;241m-\u001b[39m yk_sum\u001b[38;5;241m.\u001b[39mdot(\u001b[38;5;28mself\u001b[39m\u001b[38;5;241m.\u001b[39malpha)\n\u001b[0;32m     61\u001b[0m     \u001b[38;5;28mself\u001b[39m\u001b[38;5;241m.\u001b[39mupdate_alpha(gradient)\n\u001b[1;32m---> 63\u001b[0m     \u001b[38;5;28;43mself\u001b[39;49m\u001b[38;5;241;43m.\u001b[39;49m\u001b[43mupdate_loss\u001b[49m\u001b[43m(\u001b[49m\u001b[43myk_sum\u001b[49m\u001b[43m)\u001b[49m\n\u001b[0;32m     65\u001b[0m idx \u001b[38;5;241m=\u001b[39m \u001b[38;5;28mself\u001b[39m\u001b[38;5;241m.\u001b[39mget_index()\n\u001b[0;32m     66\u001b[0m b_fit \u001b[38;5;241m=\u001b[39m y_targets[idx] \u001b[38;5;241m-\u001b[39m (\u001b[38;5;28mself\u001b[39m\u001b[38;5;241m.\u001b[39malpha \u001b[38;5;241m*\u001b[39m y_targets)\u001b[38;5;241m.\u001b[39mdot(\u001b[38;5;28mself\u001b[39m\u001b[38;5;241m.\u001b[39mkernel(X_features, X_features[idx]))\n",
      "File \u001b[1;32mc:\\Users\\mateu\\python\\WSi\\wsi-testowe-repo\\lab4\\svm.py:40\u001b[0m, in \u001b[0;36mSVM.update_loss\u001b[1;34m(self, my_yk_sum)\u001b[0m\n\u001b[0;32m     39\u001b[0m \u001b[38;5;28;01mdef\u001b[39;00m \u001b[38;5;21mupdate_loss\u001b[39m(\u001b[38;5;28mself\u001b[39m,my_yk_sum):\n\u001b[1;32m---> 40\u001b[0m     loss \u001b[38;5;241m=\u001b[39m np\u001b[38;5;241m.\u001b[39msum(\u001b[38;5;28mself\u001b[39m\u001b[38;5;241m.\u001b[39malpha) \u001b[38;5;241m-\u001b[39m \u001b[38;5;28mself\u001b[39m\u001b[38;5;241m.\u001b[39mparams\u001b[38;5;241m.\u001b[39mhalf \u001b[38;5;241m*\u001b[39m np\u001b[38;5;241m.\u001b[39msum(\u001b[43mnp\u001b[49m\u001b[38;5;241;43m.\u001b[39;49m\u001b[43mouter\u001b[49m\u001b[43m(\u001b[49m\u001b[38;5;28;43mself\u001b[39;49m\u001b[38;5;241;43m.\u001b[39;49m\u001b[43malpha\u001b[49m\u001b[43m,\u001b[49m\u001b[43m \u001b[49m\u001b[38;5;28;43mself\u001b[39;49m\u001b[38;5;241;43m.\u001b[39;49m\u001b[43malpha\u001b[49m\u001b[43m)\u001b[49m \u001b[38;5;241m*\u001b[39m my_yk_sum)\n\u001b[0;32m     41\u001b[0m     \u001b[38;5;28mself\u001b[39m\u001b[38;5;241m.\u001b[39mloses\u001b[38;5;241m.\u001b[39mappend(loss)\n",
      "File \u001b[1;32mc:\\Users\\mateu\\AppData\\Local\\Programs\\Python\\Python310\\lib\\site-packages\\numpy\\core\\numeric.py:925\u001b[0m, in \u001b[0;36mouter\u001b[1;34m(a, b, out)\u001b[0m\n\u001b[0;32m    923\u001b[0m a \u001b[38;5;241m=\u001b[39m asarray(a)\n\u001b[0;32m    924\u001b[0m b \u001b[38;5;241m=\u001b[39m asarray(b)\n\u001b[1;32m--> 925\u001b[0m \u001b[38;5;28;01mreturn\u001b[39;00m \u001b[43mmultiply\u001b[49m\u001b[43m(\u001b[49m\u001b[43ma\u001b[49m\u001b[38;5;241;43m.\u001b[39;49m\u001b[43mravel\u001b[49m\u001b[43m(\u001b[49m\u001b[43m)\u001b[49m\u001b[43m[\u001b[49m\u001b[43m:\u001b[49m\u001b[43m,\u001b[49m\u001b[43m \u001b[49m\u001b[43mnewaxis\u001b[49m\u001b[43m]\u001b[49m\u001b[43m,\u001b[49m\u001b[43m \u001b[49m\u001b[43mb\u001b[49m\u001b[38;5;241;43m.\u001b[39;49m\u001b[43mravel\u001b[49m\u001b[43m(\u001b[49m\u001b[43m)\u001b[49m\u001b[43m[\u001b[49m\u001b[43mnewaxis\u001b[49m\u001b[43m,\u001b[49m\u001b[43m \u001b[49m\u001b[43m:\u001b[49m\u001b[43m]\u001b[49m\u001b[43m,\u001b[49m\u001b[43m \u001b[49m\u001b[43mout\u001b[49m\u001b[43m)\u001b[49m\n",
      "\u001b[1;31mKeyboardInterrupt\u001b[0m: "
     ]
    }
   ],
   "source": [
    "\n",
    "accuracy = []\n",
    "#(C=10, kernel='rbf',lr=1e-10, iters=100, sigma=0.5)\n",
    "for idx in range(len(c_params)):\n",
    "    op_rbf = optim_params(C=c_params[idx], kernel='rbf',lr=lr_params[idx], iters=iters_params[idx], sigma=sigma_params[idx])\n",
    "    svm = SVM(op_rbf)\n",
    "    svm.fit(X_train, y_train)\n",
    "\n",
    "    predicts = svm.predict(X_test)\n",
    "\n",
    "    accuracy.append(accuracy_score(y_test, predicts))\n",
    "\n",
    "result = pd.DataFrame(\n",
    "    {\n",
    "        'C': c_params,\n",
    "        'Sigma': sigma_params,\n",
    "        'learning_rate': lr_params,\n",
    "        'iterations': iters_params,\n",
    "        'accuracy': accuracy })\n",
    "\n",
    "result\n"
   ]
  }
 ],
 "metadata": {
  "kernelspec": {
   "display_name": "Python 3",
   "language": "python",
   "name": "python3"
  },
  "language_info": {
   "codemirror_mode": {
    "name": "ipython",
    "version": 3
   },
   "file_extension": ".py",
   "mimetype": "text/x-python",
   "name": "python",
   "nbconvert_exporter": "python",
   "pygments_lexer": "ipython3",
   "version": "3.10.11"
  }
 },
 "nbformat": 4,
 "nbformat_minor": 2
}
